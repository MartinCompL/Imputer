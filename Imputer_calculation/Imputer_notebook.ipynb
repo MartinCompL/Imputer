{
 "cells": [
  {
   "cell_type": "markdown",
   "metadata": {},
   "source": [
    "### Explaination\n"
   ]
  },
  {
   "cell_type": "markdown",
   "metadata": {},
   "source": [
    "#### Methods\n",
    "Your class should support two methods, namely fit and transform with the following behaviours:\n",
    "\n",
    "#### fit : *fit(X)*\n",
    "- fit the imputer on X.\n",
    "\n",
    "Parameters:\t\n",
    "- X : {array-like, sparse matrix}, shape (n_samples, n_features)\n",
    "- Input data, where n_samples is the number of samples and n_features is the number of features.\n",
    "\n",
    "Returns:\t\n",
    "- self : object\n",
    "- Returns self.\n",
    "\n",
    "In other words: Fit receives as input the \"matrix\" of incomplete data, with the \"boundaries\" of the area for which we want to impute (calculate) missing values. (i.e. a single column, or the entire matrix) and returns an object containing only the part we want to do the imputation on. \n",
    "\n",
    "\n",
    "#### transform : *transform(X)*\n",
    "- Impute all missing values in X and returns X with new values.\n",
    "\n",
    "Parameters:\t\n",
    "- X : {array-like, sparse matrix}, shape = [n_samples, n_features]\n",
    "- The input data to complete.\n",
    " "
   ]
  },
  {
   "cell_type": "markdown",
   "metadata": {},
   "source": [
    "## Imputer Classes"
   ]
  },
  {
   "cell_type": "code",
   "execution_count": 2,
   "metadata": {},
   "outputs": [
    {
     "name": "stdout",
     "output_type": "stream",
     "text": [
      "Original Data: \n",
      "    Country  Num1     Num2\n",
      "0   France  44.0  72000.0\n",
      "1    Spain  27.0  48000.0\n",
      "2  Germany  30.0  54000.0\n",
      "3    Spain  38.0  61000.0\n",
      "4  Germany  40.0      NaN\n",
      "5   France  35.0  58000.0\n",
      "6    Spain   NaN  52000.0\n",
      "7   France  48.0  79000.0\n",
      "8  Germany  50.0  83000.0\n",
      "9   France  37.0  67000.0\n",
      "\n",
      "Imputed Data : \n",
      "    Country       Num1          Num2\n",
      "0   France  44.000000  72000.000000\n",
      "1    Spain  27.000000  48000.000000\n",
      "2  Germany  30.000000  54000.000000\n",
      "3    Spain  38.000000  61000.000000\n",
      "4  Germany  40.000000  63777.777778\n",
      "5   France  35.000000  58000.000000\n",
      "6    Spain  38.777778  52000.000000\n",
      "7   France  48.000000  79000.000000\n",
      "8  Germany  50.000000  83000.000000\n",
      "9   France  37.000000  67000.000000\n"
     ]
    }
   ],
   "source": [
    "\n",
    "# Neccessary libraries to solve the task. Panadas is used to display the data structures. Numpy is used for numerical operations to calculate missing value\n",
    "import pandas as pd\n",
    "import numpy as np\n",
    "\n",
    "# Class for performing data imputation\n",
    "class HomebrewImputer:\n",
    "# The default strategy is empty, but it is possible to put one of the 3 strategies for default. The Imputation can only perform columns of the data structures.\n",
    "    def __init__(self, strategy=\"\", axis=0):\n",
    "        self.strategy = strategy\n",
    "        self.axis = axis\n",
    "        self.imputer = None\n",
    "# The imputation is based on the users chosen strategy. Mean, median, and mode is the current implemented strategies.\n",
    "    def fit(self, X, columns=None):\n",
    "        if self.strategy == \"mean\":\n",
    "            self.imputer = MeanImputer(axis=self.axis)\n",
    "        elif self.strategy == \"median\":\n",
    "            self.imputer = MedianImputer()\n",
    "        elif self.strategy == \"mode\":\n",
    "            self.imputer = ModeImputer(axis=self.axis)\n",
    "        else:\n",
    "# When one of the 3 implemented strategies is not detected, that means it is either an typo or not having the specific strategy implemented.\n",
    "            raise ValueError(\"The imputation strategy is not valid or not implemented\")\n",
    "# This allows users to select which columns to imputate. Iloc is integer location based indexing. It allows user to select columns.\n",
    "        if columns is not None:\n",
    "            X = X.iloc[:, columns]\n",
    "# Fits the selected imputer to the data.\n",
    "        self.imputer.fit(X)\n",
    "# Transform the imputer on the data based on the selection.\n",
    "    def transform(self, X):\n",
    "        if self.imputer is not None:\n",
    "            return self.imputer.transform(X)\n",
    "\n",
    "# Class for mean imputation.\n",
    "class MeanImputer:\n",
    "    def __init__(self, axis=0):\n",
    "        self.axis = axis\n",
    "# Calculate the mean value for the imputation\n",
    "    def fit(self, X):\n",
    "        self.imputation_values = X.mean(axis=self.axis)\n",
    "# fill the missing values for the imputation\n",
    "    def transform(self, X):\n",
    "        return X.fillna(self.imputation_values)\n",
    "    \n",
    "# Class for median imputation. Median class does not require an __init__ method because it is not axis depended.\n",
    "class MedianImputer:\n",
    "    def fit(self, X):\n",
    "        self.imputation_values = X.median()\n",
    "# fill the missing values for the imputation\n",
    "    def transform(self, X):\n",
    "        return X.fillna(self.imputation_values)\n",
    "    \n",
    "# Class for mode imputation.\n",
    "class ModeImputer:\n",
    "    def __init__(self, axis=0):\n",
    "        self.axis = axis\n",
    "# Calculate the mode value for the imputation\n",
    "    def fit(self, X):\n",
    "        self.imputation_values = X.mode(axis=self.axis).iloc[0]\n",
    "# fill the missing values for the imputation\n",
    "    def transform(self, X):\n",
    "        return X.fillna(self.imputation_values)\n",
    "\n",
    "# Data to the imputation.\n",
    "X = pd.DataFrame({\n",
    "    'Country': ['France', 'Spain', 'Germany', 'Spain', 'Germany', 'France', 'Spain', 'France', 'Germany', 'France'],\n",
    "    'Num1': [44.0, 27.0, 30.0, 38.0, 40.0, 35.0, np.nan, 48.0, 50.0, 37.0],\n",
    "    'Num2': [72000.0, 48000.0, 54000.0, 61000.0, np.nan, 58000.0, 52000.0, 79000.0, 83000.0, 67000.0]\n",
    "})\n",
    "# User can choose which strategy to imputation with.\n",
    "strategy = \"mean\"  \n",
    "# User can choose which row to imputate.\n",
    "columns_to_impute = [1,2]  \n",
    "# Creates an instance of the homebrew imputator class\n",
    "imputer = HomebrewImputer(strategy=strategy, axis=0)\n",
    "# Fit the imputer on the dataset and choose which column to imputate.\n",
    "imputer.fit(X, columns=columns_to_impute)\n",
    "# Perform imputation and get the imputed data\n",
    "imputed_data = imputer.transform(X)\n",
    "\n",
    "# Print the original data and imputed data for comparison.\n",
    "print(\"Original Data: \\n\", X)\n",
    "print(\"\")\n",
    "print(\"Imputed Data : \\n\", imputed_data)\n"
   ]
  },
  {
   "cell_type": "markdown",
   "metadata": {},
   "source": [
    "## Demonstration of how to use the strategy imputer"
   ]
  },
  {
   "cell_type": "markdown",
   "metadata": {},
   "source": [
    "# Testing mean strategy"
   ]
  },
  {
   "cell_type": "code",
   "execution_count": 3,
   "metadata": {},
   "outputs": [
    {
     "name": "stdout",
     "output_type": "stream",
     "text": [
      "Original Data: \n",
      "    Country  Num1     Num2\n",
      "0   France  44.0  72000.0\n",
      "1    Spain  27.0  48000.0\n",
      "2  Germany  30.0  54000.0\n",
      "3    Spain  38.0  61000.0\n",
      "4  Germany  40.0      NaN\n",
      "5   France  35.0  58000.0\n",
      "6    Spain   NaN  52000.0\n",
      "7   France  48.0  79000.0\n",
      "8  Germany  50.0  83000.0\n",
      "9   France  37.0  67000.0\n",
      "\n",
      "Imputed Data : \n",
      "    Country       Num1          Num2\n",
      "0   France  44.000000  72000.000000\n",
      "1    Spain  27.000000  48000.000000\n",
      "2  Germany  30.000000  54000.000000\n",
      "3    Spain  38.000000  61000.000000\n",
      "4  Germany  40.000000  63777.777778\n",
      "5   France  35.000000  58000.000000\n",
      "6    Spain  38.777778  52000.000000\n",
      "7   France  48.000000  79000.000000\n",
      "8  Germany  50.000000  83000.000000\n",
      "9   France  37.000000  67000.000000\n"
     ]
    }
   ],
   "source": [
    "\n",
    "# User can choose which strategy to imputation with.\n",
    "strategy = \"mean\"  \n",
    "# User can choose which row to imputate.\n",
    "columns_to_impute = [1,2]  \n",
    "# Creates an instance of the homebrew imputator class\n",
    "imputer = HomebrewImputer(strategy=strategy, axis=0)\n",
    "# Fit the imputer on the dataset and choose which column to imputate.\n",
    "imputer.fit(X, columns=columns_to_impute)\n",
    "# Perform imputation and get the imputed data\n",
    "imputed_data = imputer.transform(X)\n",
    "\n",
    "# Print the original data and imputed data for comparison.\n",
    "print(\"Original Data: \\n\", X)\n",
    "print(\"\")\n",
    "print(\"Imputed Data : \\n\", imputed_data)\n"
   ]
  },
  {
   "cell_type": "markdown",
   "metadata": {},
   "source": [
    "# Testing median strategy"
   ]
  },
  {
   "cell_type": "code",
   "execution_count": 4,
   "metadata": {},
   "outputs": [
    {
     "name": "stdout",
     "output_type": "stream",
     "text": [
      "Original Data: \n",
      "    Country  Num1     Num2\n",
      "0   France  44.0  72000.0\n",
      "1    Spain  27.0  48000.0\n",
      "2  Germany  30.0  54000.0\n",
      "3    Spain  38.0  61000.0\n",
      "4  Germany  40.0      NaN\n",
      "5   France  35.0  58000.0\n",
      "6    Spain   NaN  52000.0\n",
      "7   France  48.0  79000.0\n",
      "8  Germany  50.0  83000.0\n",
      "9   France  37.0  67000.0\n",
      "\n",
      "Imputed Data : \n",
      "    Country  Num1     Num2\n",
      "0   France  44.0  72000.0\n",
      "1    Spain  27.0  48000.0\n",
      "2  Germany  30.0  54000.0\n",
      "3    Spain  38.0  61000.0\n",
      "4  Germany  40.0  61000.0\n",
      "5   France  35.0  58000.0\n",
      "6    Spain  38.0  52000.0\n",
      "7   France  48.0  79000.0\n",
      "8  Germany  50.0  83000.0\n",
      "9   France  37.0  67000.0\n"
     ]
    }
   ],
   "source": [
    "\n",
    "# User can choose which strategy to imputation with.\n",
    "strategy = \"median\"  \n",
    "# User can choose which row to imputate.\n",
    "columns_to_impute = [1,2]  \n",
    "# Creates an instance of the homebrew imputator class\n",
    "imputer = HomebrewImputer(strategy=strategy, axis=0)\n",
    "# Fit the imputer on the dataset and choose which column to imputate.\n",
    "imputer.fit(X, columns=columns_to_impute)\n",
    "# Perform imputation and get the imputed data\n",
    "imputed_data = imputer.transform(X)\n",
    "\n",
    "# Print the original data and imputed data for comparison.\n",
    "print(\"Original Data: \\n\", X)\n",
    "print(\"\")\n",
    "print(\"Imputed Data : \\n\", imputed_data)"
   ]
  },
  {
   "cell_type": "markdown",
   "metadata": {},
   "source": [
    "# Testing mode strategy"
   ]
  },
  {
   "cell_type": "code",
   "execution_count": 5,
   "metadata": {},
   "outputs": [
    {
     "name": "stdout",
     "output_type": "stream",
     "text": [
      "Original Data: \n",
      "    Country  Num1     Num2\n",
      "0   France  44.0  72000.0\n",
      "1    Spain  27.0  48000.0\n",
      "2  Germany  30.0  54000.0\n",
      "3    Spain  38.0  61000.0\n",
      "4  Germany  40.0      NaN\n",
      "5   France  35.0  58000.0\n",
      "6    Spain   NaN  52000.0\n",
      "7   France  48.0  79000.0\n",
      "8  Germany  50.0  83000.0\n",
      "9   France  37.0  67000.0\n",
      "\n",
      "Imputed Data : \n",
      "    Country  Num1     Num2\n",
      "0   France  44.0  72000.0\n",
      "1    Spain  27.0  48000.0\n",
      "2  Germany  30.0  54000.0\n",
      "3    Spain  38.0  61000.0\n",
      "4  Germany  40.0  48000.0\n",
      "5   France  35.0  58000.0\n",
      "6    Spain  27.0  52000.0\n",
      "7   France  48.0  79000.0\n",
      "8  Germany  50.0  83000.0\n",
      "9   France  37.0  67000.0\n"
     ]
    }
   ],
   "source": [
    "\n",
    "# User can choose which strategy to imputation with.\n",
    "strategy = \"mode\"  \n",
    "# User can choose which row to imputate.\n",
    "columns_to_impute = [1,2]  \n",
    "# Creates an instance of the homebrew imputator class\n",
    "imputer = HomebrewImputer(strategy=strategy, axis=0)\n",
    "# Fit the imputer on the dataset and choose which column to imputate.\n",
    "imputer.fit(X, columns=columns_to_impute)\n",
    "# Perform imputation and get the imputed data\n",
    "imputed_data = imputer.transform(X)\n",
    "\n",
    "# Print the original data and imputed data for comparison.\n",
    "print(\"Original Data: \\n\", X)\n",
    "print(\"\")\n",
    "print(\"Imputed Data : \\n\", imputed_data)"
   ]
  },
  {
   "cell_type": "markdown",
   "metadata": {},
   "source": [
    "# User can choose which colmun to imputate. The first number corresponds to column \"Num1\" and the second corresponds to column \"Num2\"."
   ]
  },
  {
   "cell_type": "code",
   "execution_count": 6,
   "metadata": {},
   "outputs": [
    {
     "name": "stdout",
     "output_type": "stream",
     "text": [
      "Original Data: \n",
      "    Country  Num1     Num2\n",
      "0   France  44.0  72000.0\n",
      "1    Spain  27.0  48000.0\n",
      "2  Germany  30.0  54000.0\n",
      "3    Spain  38.0  61000.0\n",
      "4  Germany  40.0      NaN\n",
      "5   France  35.0  58000.0\n",
      "6    Spain   NaN  52000.0\n",
      "7   France  48.0  79000.0\n",
      "8  Germany  50.0  83000.0\n",
      "9   France  37.0  67000.0\n",
      "\n",
      "Imputed Data : \n",
      "    Country       Num1     Num2\n",
      "0   France  44.000000  72000.0\n",
      "1    Spain  27.000000  48000.0\n",
      "2  Germany  30.000000  54000.0\n",
      "3    Spain  38.000000  61000.0\n",
      "4  Germany  40.000000      NaN\n",
      "5   France  35.000000  58000.0\n",
      "6    Spain  38.777778  52000.0\n",
      "7   France  48.000000  79000.0\n",
      "8  Germany  50.000000  83000.0\n",
      "9   France  37.000000  67000.0\n"
     ]
    }
   ],
   "source": [
    "\n",
    "# User can choose which strategy to imputation with.\n",
    "strategy = \"mean\"  \n",
    "# User can choose which row to imputate.\n",
    "columns_to_impute = [1]  \n",
    "# Creates an instance of the homebrew imputator class\n",
    "imputer = HomebrewImputer(strategy=strategy, axis=0)\n",
    "# Fit the imputer on the dataset and choose which column to imputate.\n",
    "imputer.fit(X, columns=columns_to_impute)\n",
    "# Perform imputation and get the imputed data\n",
    "imputed_data = imputer.transform(X)\n",
    "\n",
    "# Print the original data and imputed data for comparison.\n",
    "print(\"Original Data: \\n\", X)\n",
    "print(\"\")\n",
    "print(\"Imputed Data : \\n\", imputed_data)\n"
   ]
  },
  {
   "cell_type": "code",
   "execution_count": 8,
   "metadata": {},
   "outputs": [
    {
     "name": "stdout",
     "output_type": "stream",
     "text": [
      "Original Data: \n",
      "    Country  Num1     Num2\n",
      "0   France  44.0  72000.0\n",
      "1    Spain  27.0  48000.0\n",
      "2  Germany  30.0  54000.0\n",
      "3    Spain  38.0  61000.0\n",
      "4  Germany  40.0      NaN\n",
      "5   France  35.0  58000.0\n",
      "6    Spain   NaN  52000.0\n",
      "7   France  48.0  79000.0\n",
      "8  Germany  50.0  83000.0\n",
      "9   France  37.0  67000.0\n",
      "\n",
      "Imputed Data : \n",
      "    Country  Num1          Num2\n",
      "0   France  44.0  72000.000000\n",
      "1    Spain  27.0  48000.000000\n",
      "2  Germany  30.0  54000.000000\n",
      "3    Spain  38.0  61000.000000\n",
      "4  Germany  40.0  63777.777778\n",
      "5   France  35.0  58000.000000\n",
      "6    Spain   NaN  52000.000000\n",
      "7   France  48.0  79000.000000\n",
      "8  Germany  50.0  83000.000000\n",
      "9   France  37.0  67000.000000\n"
     ]
    }
   ],
   "source": [
    "\n",
    "# User can choose which strategy to imputation with.\n",
    "strategy = \"mean\"  \n",
    "# User can choose which row to imputate.\n",
    "columns_to_impute = [2]  \n",
    "# Creates an instance of the homebrew imputator class\n",
    "imputer = HomebrewImputer(strategy=strategy, axis=0)\n",
    "# Fit the imputer on the dataset and choose which column to imputate.\n",
    "imputer.fit(X, columns=columns_to_impute)\n",
    "# Perform imputation and get the imputed data\n",
    "imputed_data = imputer.transform(X)\n",
    "\n",
    "# Print the original data and imputed data for comparison.\n",
    "print(\"Original Data: \\n\", X)\n",
    "print(\"\")\n",
    "print(\"Imputed Data : \\n\", imputed_data)\n"
   ]
  },
  {
   "cell_type": "markdown",
   "metadata": {},
   "source": [
    "However, 0  will coresspond to nothing due to the \"Country\" column does not contain integers or NaN."
   ]
  },
  {
   "cell_type": "code",
   "execution_count": 9,
   "metadata": {},
   "outputs": [
    {
     "name": "stdout",
     "output_type": "stream",
     "text": [
      "Original Data: \n",
      "    Country  Num1     Num2\n",
      "0   France  44.0  72000.0\n",
      "1    Spain  27.0  48000.0\n",
      "2  Germany  30.0  54000.0\n",
      "3    Spain  38.0  61000.0\n",
      "4  Germany  40.0      NaN\n",
      "5   France  35.0  58000.0\n",
      "6    Spain   NaN  52000.0\n",
      "7   France  48.0  79000.0\n",
      "8  Germany  50.0  83000.0\n",
      "9   France  37.0  67000.0\n",
      "\n",
      "Imputed Data : \n",
      "    Country  Num1     Num2\n",
      "0   France  44.0  72000.0\n",
      "1    Spain  27.0  48000.0\n",
      "2  Germany  30.0  54000.0\n",
      "3    Spain  38.0  61000.0\n",
      "4  Germany  40.0      NaN\n",
      "5   France  35.0  58000.0\n",
      "6    Spain   NaN  52000.0\n",
      "7   France  48.0  79000.0\n",
      "8  Germany  50.0  83000.0\n",
      "9   France  37.0  67000.0\n"
     ]
    },
    {
     "name": "stderr",
     "output_type": "stream",
     "text": [
      "C:\\Users\\kruns\\AppData\\Local\\Temp\\ipykernel_10244\\1992768785.py:42: FutureWarning: Dropping of nuisance columns in DataFrame reductions (with 'numeric_only=None') is deprecated; in a future version this will raise TypeError.  Select only valid columns before calling the reduction.\n",
      "  self.imputation_values = X.mean(axis=self.axis)\n"
     ]
    }
   ],
   "source": [
    "\n",
    "# User can choose which strategy to imputation with.\n",
    "strategy = \"mean\"  \n",
    "# User can choose which row to imputate.\n",
    "columns_to_impute = [0]  \n",
    "# Creates an instance of the homebrew imputator class\n",
    "imputer = HomebrewImputer(strategy=strategy, axis=0)\n",
    "# Fit the imputer on the dataset and choose which column to imputate.\n",
    "imputer.fit(X, columns=columns_to_impute)\n",
    "# Perform imputation and get the imputed data\n",
    "imputed_data = imputer.transform(X)\n",
    "\n",
    "# Print the original data and imputed data for comparison.\n",
    "print(\"Original Data: \\n\", X)\n",
    "print(\"\")\n",
    "print(\"Imputed Data : \\n\", imputed_data)"
   ]
  },
  {
   "cell_type": "markdown",
   "metadata": {},
   "source": [
    "## Brief Reflection"
   ]
  },
  {
   "cell_type": "markdown",
   "metadata": {},
   "source": [
    "The code of the strategy pattern is developed to have a robust and extensible design in mind for future use. The design is developed in a way to allow effortless implementing a new strategy pattern without impacting the design of the code structure. These are the current features that makes the design resistant to changes;\n",
    "\n",
    "\n",
    "Extensibility. The Strategy Pattern allows for the addition of new imputation strategies by a new class that follows the same interface. However, the design will likely get more complicated when it is overloaded with imputation classes and features, and could lead to changing the user interface for just to be compatible with the new feature.\n",
    "\n",
    "Maintainability. The code imputation strategies are separated into classes, each of the classes are responsible for a specific strategy. This approach creates a more effortless approach for maintaining and debugging due to the isolation of other strategy patterns, resulting the code does not break if one of the strategy patterns does to function. By adding more classes could make the code structure more challenging to navigate.\n",
    "\n",
    "Flexibility. The design is flexible as it allows users to choose which columns to impute. However, implementing axis=1 will require the whole structure being modified. The design can only perform axis=0. Adding Axis=1 will require a bit of code structure modification. \n",
    "\n"
   ]
  },
  {
   "cell_type": "markdown",
   "metadata": {},
   "source": [
    "## Pros and Cons of the Design\n",
    "\n",
    "\n",
    "Benefits:\n",
    "\n",
    "Extensibility: The factory pattern allows effortless addition of new strategies without interrupting already implemented imputation strategies\n",
    "\n",
    "Easier management: Separating the responsibility of strategy creation to the factory class promotes a cleaner code structure.\n",
    "\n",
    "Reusability: The factory can be reused across different projects that require similar strategy instantiation.\n",
    "\n",
    "Maintenance: Debugging and maintaining code is more straightforward with a separated factory, allowing strategies getting implmented in isolation by introducting a new class and implementing it as an option on \"StrategyFactory\".\n",
    "\n",
    "Negatives:\n",
    "\n",
    "Complexity: Introducing a factory pattern has the possiblity of increasing complexity to the design.\n",
    "\n",
    "Implementation: Depending on what kind of imputation strategy will be added, it may take some time.\n",
    "\n",
    "Missing features: The design does not have the implementation of reading data from a CSV file, and can only imputate columns. (Axis=0)\n"
   ]
  },
  {
   "cell_type": "markdown",
   "metadata": {},
   "source": [
    "## Improved version of the design"
   ]
  },
  {
   "cell_type": "code",
   "execution_count": 2,
   "metadata": {},
   "outputs": [
    {
     "name": "stdout",
     "output_type": "stream",
     "text": [
      "Original Data: \n",
      "    Country  Num1     Num2\n",
      "0   France  44.0  72000.0\n",
      "1    Spain  27.0  48000.0\n",
      "2  Germany  30.0  54000.0\n",
      "3    Spain  38.0  61000.0\n",
      "4  Germany  40.0      NaN\n",
      "5   France  35.0  58000.0\n",
      "6    Spain   NaN  52000.0\n",
      "7   France  48.0  79000.0\n",
      "8  Germany  50.0  83000.0\n",
      "9   France  37.0  67000.0\n",
      "Imputed Data : \n",
      "    Country  Num1     Num2\n",
      "0   France  44.0  72000.0\n",
      "1    Spain  27.0  48000.0\n",
      "2  Germany  30.0  54000.0\n",
      "3    Spain  38.0  61000.0\n",
      "4  Germany  40.0  51000.0\n",
      "5   France  35.0  58000.0\n",
      "6    Spain  28.5  52000.0\n",
      "7   France  48.0  79000.0\n",
      "8  Germany  50.0  83000.0\n",
      "9   France  37.0  67000.0\n"
     ]
    },
    {
     "name": "stderr",
     "output_type": "stream",
     "text": [
      "C:\\Users\\kruns\\AppData\\Local\\Temp\\ipykernel_30636\\420437418.py:49: FutureWarning: Dropping of nuisance columns in DataFrame reductions (with 'numeric_only=None') is deprecated; in a future version this will raise TypeError.  Select only valid columns before calling the reduction.\n",
      "  self.imputation_values = X.median(axis=self.axis)\n"
     ]
    }
   ],
   "source": [
    "import pandas as pd\n",
    "import numpy as np\n",
    "\n",
    "class Strategyfactory:\n",
    "    def create_imputer(self, strategy, axis=0):\n",
    "        if strategy == \"mean\":\n",
    "            return MeanImputer(axis=axis)\n",
    "        elif strategy == \"median\":\n",
    "            return MedianImputer(axis=axis)\n",
    "        elif strategy == \"mode\":\n",
    "            return ModeImputer(axis=axis)\n",
    "        else:\n",
    "            raise ValueError(\"The imputation strategy is not valid or not implemented\")\n",
    "\n",
    "class HomebrewImputer:\n",
    "    def __init__(self, Strategyfactory, axis=0):\n",
    "        self.Strategyfactory = Strategyfactory\n",
    "        self.axis = axis\n",
    "        self.imputer = None\n",
    "\n",
    "    def fit(self, X, rows=None, strategy=\"\"):\n",
    "        self.imputer = self.Strategyfactory.create_imputer(strategy, axis=self.axis)\n",
    "        if rows is not None:\n",
    "            X = X.loc[rows]\n",
    "        self.imputer.fit(X)\n",
    "\n",
    "    def transform(self, X):\n",
    "        if self.imputer is not None:\n",
    "            return self.imputer.transform(X)\n",
    "\n",
    "    def set_axis(self, axis):\n",
    "        self.axis = axis\n",
    "\n",
    "class MeanImputer:\n",
    "    def __init__(self, axis=0):\n",
    "        self.axis = axis\n",
    "\n",
    "    def fit(self, X):\n",
    "        self.imputation_values = X.mean(axis=self.axis)\n",
    "\n",
    "    def transform(self, X):\n",
    "        return X.fillna(self.imputation_values)\n",
    "\n",
    "class MedianImputer:\n",
    "    def __init__(self, axis=0):\n",
    "        self.axis = axis\n",
    "\n",
    "    def fit(self, X):\n",
    "        self.imputation_values = X.median(axis=self.axis)\n",
    "\n",
    "    def transform(self, X):\n",
    "        return X.fillna(self.imputation_values)\n",
    "\n",
    "class ModeImputer:\n",
    "    def __init__(self, axis=0):\n",
    "        self.axis = axis\n",
    "\n",
    "    def fit(self, X):\n",
    "        self.imputation_values = X.mode(axis=self.axis).iloc[0]\n",
    "\n",
    "    def transform(self, X):\n",
    "        return X.fillna(self.imputation_values)\n",
    "\n",
    "X = pd.DataFrame({\n",
    "    'Country': ['France', 'Spain', 'Germany', 'Spain', 'Germany', 'France', 'Spain', 'France', 'Germany', 'France'],\n",
    "    'Num1': [44.0, 27.0, 30.0, 38.0, 40.0, 35.0, np.nan, 48.0, 50.0, 37.0],\n",
    "    'Num2': [72000.0, 48000.0, 54000.0, 61000.0, np.nan, 58000.0, 52000.0, 79000.0, 83000.0, 67000.0]\n",
    "})\n",
    "\n",
    "Strategyfactory = Strategyfactory()\n",
    "strategy = \"median\"\n",
    "imp = [1, 2]\n",
    "imputer = HomebrewImputer(Strategyfactory, axis=0)\n",
    "imputer.fit(X, rows=imp, strategy=strategy)\n",
    "imputed_data = imputer.transform(X)\n",
    "print(\"Original Data: \\n\", X)\n",
    "print(\"Imputed Data : \\n\", imputed_data)"
   ]
  },
  {
   "cell_type": "markdown",
   "metadata": {},
   "source": [
    "## The current version can not change axis to 1."
   ]
  },
  {
   "cell_type": "markdown",
   "metadata": {},
   "source": [
    "Imputation strategy will fill missing values in the Num1 and Num2 columns based on the rows specified in imp[]. The HomebrewImputer class manages the imputation process, and the Imputer classes handles the imputation itself. The output will display the original data and the imputed data after applying the imputation strategy to prove it works."
   ]
  },
  {
   "cell_type": "markdown",
   "metadata": {},
   "source": [
    "## How does the information travel when a user input information?"
   ]
  },
  {
   "cell_type": "markdown",
   "metadata": {},
   "source": [
    "The process starts when an user interact the program by specifying which column and which imputatation strategy to execute. The choice is then passed to the Strategyfactory class to create an instance based on the information given by a user. The information will then get passed to the Homebrewimputer class for strategy initilizaition. The homebrewclass will then coordinate the flow of the information by using \"Fit\" method to calcluate values by using one of the implementation strategies and which column to imputate. Then the \"Transform\" will apply the information and output values to \"NaN\" cells."
   ]
  }
 ],
 "metadata": {
  "kernelspec": {
   "display_name": "Python 3 (ipykernel)",
   "language": "python",
   "name": "python3"
  },
  "language_info": {
   "codemirror_mode": {
    "name": "ipython",
    "version": 3
   },
   "file_extension": ".py",
   "mimetype": "text/x-python",
   "name": "python",
   "nbconvert_exporter": "python",
   "pygments_lexer": "ipython3",
   "version": "3.9.12"
  }
 },
 "nbformat": 4,
 "nbformat_minor": 2
}
